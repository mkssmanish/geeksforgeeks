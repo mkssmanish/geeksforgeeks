{
  "nbformat": 4,
  "nbformat_minor": 0,
  "metadata": {
    "colab": {
      "name": "String_geeksforgeeks.ipynb",
      "provenance": [],
      "collapsed_sections": [],
      "authorship_tag": "ABX9TyNRt9DvaftrwjDhmvpOna9Y",
      "include_colab_link": true
    },
    "kernelspec": {
      "name": "python3",
      "display_name": "Python 3"
    }
  },
  "cells": [
    {
      "cell_type": "markdown",
      "metadata": {
        "id": "view-in-github",
        "colab_type": "text"
      },
      "source": [
        "<a href=\"https://colab.research.google.com/github/mkssmanish/geeksforgeeks/blob/master/String_geeksforgeeks.ipynb\" target=\"_parent\"><img src=\"https://colab.research.google.com/assets/colab-badge.svg\" alt=\"Open In Colab\"/></a>"
      ]
    },
    {
      "cell_type": "code",
      "metadata": {
        "id": "BYXHC6SjGjYJ",
        "colab_type": "code",
        "colab": {}
      },
      "source": [
        ""
      ],
      "execution_count": 0,
      "outputs": []
    },
    {
      "cell_type": "code",
      "metadata": {
        "id": "JFjeM6QKcLQf",
        "colab_type": "code",
        "colab": {}
      },
      "source": [
        "# Q1    https://practice.geeksforgeeks.org/problems/palindrome-string/0"
      ],
      "execution_count": 0,
      "outputs": []
    },
    {
      "cell_type": "code",
      "metadata": {
        "id": "AngBJS7HfeuH",
        "colab_type": "code",
        "colab": {}
      },
      "source": [
        "def isPalindrome(s): \n",
        "    return s == s[::-1] \n",
        "  \n",
        "T = int(input())\n",
        "# Driver code \n",
        "for i in range(T):\n",
        "    len_string = int(input())\n",
        "    string = input()\n",
        "    ans = isPalindrome(string) \n",
        "    if ans: \n",
        "        print(\"Yes\") \n",
        "    else: \n",
        "        print(\"No\")"
      ],
      "execution_count": 0,
      "outputs": []
    },
    {
      "cell_type": "code",
      "metadata": {
        "id": "mw8TodtLf_FH",
        "colab_type": "code",
        "colab": {}
      },
      "source": [
        ""
      ],
      "execution_count": 0,
      "outputs": []
    },
    {
      "cell_type": "code",
      "metadata": {
        "id": "etApqJKYf_I3",
        "colab_type": "code",
        "colab": {}
      },
      "source": [
        ""
      ],
      "execution_count": 0,
      "outputs": []
    },
    {
      "cell_type": "code",
      "metadata": {
        "id": "c4MafHI5cLfS",
        "colab_type": "code",
        "colab": {}
      },
      "source": [
        "#Q2     https://practice.geeksforgeeks.org/problems/anagram/0"
      ],
      "execution_count": 0,
      "outputs": []
    },
    {
      "cell_type": "code",
      "metadata": {
        "id": "9SEk7wfmfgTY",
        "colab_type": "code",
        "colab": {}
      },
      "source": [
        "T = int(input())\n",
        "\n",
        "for i in range(T) :\n",
        "    s1, s2 = input().split()\n",
        "    s1 = sorted(s1)\n",
        "    s2 = sorted(s2)\n",
        "    if s1 == s2 :\n",
        "        print(\"YES\")\n",
        "    else:\n",
        "        print(\"NO\")\n",
        "        \n",
        "# Correct Answer \n",
        "# Execution Time:2."
      ],
      "execution_count": 0,
      "outputs": []
    },
    {
      "cell_type": "code",
      "metadata": {
        "id": "vkXRUUosf_zG",
        "colab_type": "code",
        "colab": {}
      },
      "source": [
        ""
      ],
      "execution_count": 0,
      "outputs": []
    },
    {
      "cell_type": "code",
      "metadata": {
        "id": "A2VczuCff_3b",
        "colab_type": "code",
        "colab": {}
      },
      "source": [
        ""
      ],
      "execution_count": 0,
      "outputs": []
    },
    {
      "cell_type": "code",
      "metadata": {
        "id": "RutERfz7cLns",
        "colab_type": "code",
        "colab": {}
      },
      "source": [
        "# Q3     https://practice.geeksforgeeks.org/problems/anagram-palindrome/0"
      ],
      "execution_count": 0,
      "outputs": []
    },
    {
      "cell_type": "code",
      "metadata": {
        "id": "hjmw0E39fhM1",
        "colab_type": "code",
        "colab": {}
      },
      "source": [
        "#code\n",
        "\n",
        "NO_OF_CHARS = 256\n",
        "\t\n",
        "\"\"\" function to check whether characters of a string \n",
        "can form a palindrome \"\"\"\n",
        "def canFormPalindrome(string): \n",
        "\t\n",
        "\t# Create a count array and initialize all \n",
        "\t# values as 0 \n",
        "\tcount = [0 for i in range(NO_OF_CHARS)] \n",
        "\t\n",
        "\t# For each character in input strings, \n",
        "\t# increment count in the corresponding \n",
        "\t# count array \n",
        "\tfor i in string: \n",
        "\t\tcount[ord(i)] += 1\n",
        "\t\n",
        "\t# Count odd occurring characters \n",
        "\todd = 0\n",
        "\tfor i in range(NO_OF_CHARS): \n",
        "\t\tif (count[i] & 1): \n",
        "\t\t\todd += 1\n",
        "\n",
        "\t\tif (odd > 1): \n",
        "\t\t\treturn \"No\"\n",
        "\t\n",
        "\t# Return true if odd count is 0 or 1, \n",
        "\treturn \"Yes\"\n",
        "\n",
        "T = int(input())\t\n",
        "# Driver program to test to print printDups \n",
        "for i in range(T):\n",
        "    string = input()\n",
        "    print(canFormPalindrome(string))\n",
        "\n",
        "\n",
        "#Correct Answer.Correct Answer\n",
        "#Execution Time:0.02"
      ],
      "execution_count": 0,
      "outputs": []
    },
    {
      "cell_type": "code",
      "metadata": {
        "id": "Y2mX_EyjgAn5",
        "colab_type": "code",
        "colab": {}
      },
      "source": [
        ""
      ],
      "execution_count": 0,
      "outputs": []
    },
    {
      "cell_type": "code",
      "metadata": {
        "id": "MP_Lh4hdgAsM",
        "colab_type": "code",
        "colab": {}
      },
      "source": [
        ""
      ],
      "execution_count": 0,
      "outputs": []
    },
    {
      "cell_type": "code",
      "metadata": {
        "id": "FyYqt_hXfhQf",
        "colab_type": "code",
        "colab": {}
      },
      "source": [
        ""
      ],
      "execution_count": 0,
      "outputs": []
    },
    {
      "cell_type": "code",
      "metadata": {
        "id": "45EdJnnOcL0A",
        "colab_type": "code",
        "colab": {}
      },
      "source": [
        "#Q4     https://practice.geeksforgeeks.org/problems/upper-case-conversion/0"
      ],
      "execution_count": 0,
      "outputs": []
    },
    {
      "cell_type": "code",
      "metadata": {
        "id": "0gvGQjYIfiAV",
        "colab_type": "code",
        "colab": {}
      },
      "source": [
        "#code\n",
        "T = int(input())\n",
        "\n",
        "for i in range(T) :\n",
        "    string = input()\n",
        "    print(string.title())\n",
        "\n",
        "\n",
        "# Correct Answer.Correct Answer\n",
        "# Execution Time:0.03"
      ],
      "execution_count": 0,
      "outputs": []
    },
    {
      "cell_type": "code",
      "metadata": {
        "id": "Sarsw5m-fiDv",
        "colab_type": "code",
        "colab": {}
      },
      "source": [
        ""
      ],
      "execution_count": 0,
      "outputs": []
    },
    {
      "cell_type": "code",
      "metadata": {
        "id": "KucABQJ9cMDn",
        "colab_type": "code",
        "colab": {}
      },
      "source": [
        "# Q5   https://practice.geeksforgeeks.org/problems/sort-the-string-in-descending-order/0"
      ],
      "execution_count": 0,
      "outputs": []
    },
    {
      "cell_type": "code",
      "metadata": {
        "id": "mVIh7pjTfkMT",
        "colab_type": "code",
        "colab": {}
      },
      "source": [
        "#code\n",
        "\n",
        "# Python program to sort \n",
        "# a string in descending \n",
        "# order using library function \n",
        "\n",
        "def descOrder(s): \n",
        "\ts.sort(reverse = True) \n",
        "\tstr1 = ''.join(s) \n",
        "\tprint(str1) \n",
        "\n",
        "def main(): \n",
        "\tT = int(input())\n",
        "\tfor i in range(T):\n",
        "\t    s = list(input())\n",
        "\t    # function call \n",
        "\t    descOrder(s) \n",
        "\n",
        "if __name__==\"__main__\": \n",
        "\tmain() \n",
        "\n",
        "\n",
        "# Correct Answer.Correct Answer\n",
        "# Execution Time:0.12"
      ],
      "execution_count": 0,
      "outputs": []
    },
    {
      "cell_type": "code",
      "metadata": {
        "id": "Q6ORSFDyfkP2",
        "colab_type": "code",
        "colab": {}
      },
      "source": [
        ""
      ],
      "execution_count": 0,
      "outputs": []
    },
    {
      "cell_type": "code",
      "metadata": {
        "id": "o3WxTFEDcMKP",
        "colab_type": "code",
        "colab": {}
      },
      "source": [
        "# Q6 https://practice.geeksforgeeks.org/problems/merge-two-strings/0"
      ],
      "execution_count": 0,
      "outputs": []
    },
    {
      "cell_type": "code",
      "metadata": {
        "id": "GztksnykflF_",
        "colab_type": "code",
        "colab": {}
      },
      "source": [
        "#code\n",
        "\n",
        "T = int(input())\n",
        "\n",
        "for i in range(T) :\n",
        "    s1,s2 = input().split()\n",
        "    out1 = \"\"\n",
        "    l1 = len(s1)\n",
        "    l2 = len (s2)\n",
        "    \n",
        "    # it only work if len(s1) == len(s2)\n",
        "    \n",
        "    #out1 = ''.join(''.join(f for f in tup) for tup in zip(s1, s2))\n",
        "    #print(out1)\n",
        "    \n",
        "    if l1 == l2 :\n",
        "        for i in range(l1):\n",
        "            out1 += s1[i] + s2[i]\n",
        "    \n",
        "    elif l1 < l2 :\n",
        "        for i in  range(l1) :\n",
        "            out1 += s1[i] + s2[i]\n",
        "        \n",
        "        out1 += s2[l1:]\n",
        "            \n",
        "    else :\n",
        "        for i in  range(l2) :\n",
        "            out1 += s1[i] + s2[i]\n",
        "        out1 += s1[l2:]\n",
        "    print(out1)\n",
        "        \n",
        "    \n",
        "# Correct Answer.Correct Answer\n",
        "# Execution Time:0.03\n"
      ],
      "execution_count": 0,
      "outputs": []
    },
    {
      "cell_type": "code",
      "metadata": {
        "id": "F4SYPHXcflJg",
        "colab_type": "code",
        "colab": {}
      },
      "source": [
        ""
      ],
      "execution_count": 0,
      "outputs": []
    },
    {
      "cell_type": "code",
      "metadata": {
        "id": "CfQVmaNNcMbn",
        "colab_type": "code",
        "colab": {}
      },
      "source": [
        "# Q7  https://practice.geeksforgeeks.org/problems/save-ironman/0"
      ],
      "execution_count": 0,
      "outputs": []
    },
    {
      "cell_type": "code",
      "metadata": {
        "id": "k1JoXBPwfmQZ",
        "colab_type": "code",
        "colab": {}
      },
      "source": [
        "a = \"Para jaiN ni a J ARAP\"\n",
        "alphanumeric = \"\"\n",
        "a = a.lower()\n",
        "for character in a :\n",
        "            if character.isalnum():\n",
        "                alphanumeric += character\n",
        "\n",
        "\n",
        "\n",
        "a = alphanumeric\n",
        "if a == a[::-1] :\n",
        "  print(\"YES\")\n",
        "else :\n",
        "  print(\"NO\")"
      ],
      "execution_count": 0,
      "outputs": []
    },
    {
      "cell_type": "code",
      "metadata": {
        "id": "kpzt6kiqfnFL",
        "colab_type": "code",
        "colab": {}
      },
      "source": [
        ""
      ],
      "execution_count": 0,
      "outputs": []
    },
    {
      "cell_type": "code",
      "metadata": {
        "id": "n-3q-xUK-nSZ",
        "colab_type": "code",
        "colab": {}
      },
      "source": [
        "#code in Python, code if fine but there is some problem while submitting \n",
        "\n",
        "T = int(input())\n",
        "alphanumeric = \"\"\n",
        "\n",
        "for i in range(T) :\n",
        "    string = input()\n",
        "    \n",
        "    for character in string :\n",
        "        if character.isalnum() == True:\n",
        "            alphanumeric += character\n",
        "                \n",
        "    \n",
        "    if alphanumeric.lower() == alphanumeric[::-1].lower() :\n",
        "        print(\"YES\")\n",
        "    else:\n",
        "        print('NO')\n",
        "\n"
      ],
      "execution_count": 0,
      "outputs": []
    },
    {
      "cell_type": "code",
      "metadata": {
        "id": "iONaRc5mBEeg",
        "colab_type": "code",
        "colab": {}
      },
      "source": [
        "\n",
        "###  So try in C++ ...it worked well\n",
        "\n",
        "\n",
        "\n",
        "# #include<bits/stdc++.h>\n",
        "# using namespace std;\n",
        "# bool valid(char ch) {\n",
        "#     if(tolower(ch)>='a' && tolower(ch)<='z') return 1;\n",
        "#     if(ch>='0' && ch<='9') return 1;\n",
        "#     return 0;\n",
        "# }\n",
        "# bool check(string s) {\n",
        "#     int n = s.size();\n",
        "#     int i = 0, j= n-1;\n",
        "#     while(i < j) {\n",
        "#         if(s[i] != s[j]) return 0;\n",
        "#         i++; j--;\n",
        "#     }\n",
        "#     return 1;\n",
        "# }\n",
        "# int main()\n",
        "#  {\n",
        "# \t//code\n",
        "# \tint t;\n",
        "# \tcin>>t;\n",
        "# \tcin.ignore();\n",
        "# \twhile(t--) {\n",
        "# \t    string s;\n",
        "# \t    getline(cin, s);\n",
        "# \t    string res;\n",
        "# \t    for(int i=0;i<s.size();i++) {\n",
        "# \t        if(valid(s[i])) {\n",
        "# \t            res += tolower(s[i]);\n",
        "# \t        }\n",
        "# \t    }\n",
        "# \t    cout<<(check(res) ? \"YES\\n\" : \"NO\\n\");\n",
        "# \t}\n",
        "# \treturn 0;\n",
        "# }\n",
        "\n"
      ],
      "execution_count": 0,
      "outputs": []
    },
    {
      "cell_type": "code",
      "metadata": {
        "id": "-yWZlZQXBElD",
        "colab_type": "code",
        "colab": {}
      },
      "source": [
        ""
      ],
      "execution_count": 0,
      "outputs": []
    },
    {
      "cell_type": "code",
      "metadata": {
        "id": "2pk7WqVFBEi8",
        "colab_type": "code",
        "colab": {}
      },
      "source": [
        ""
      ],
      "execution_count": 0,
      "outputs": []
    },
    {
      "cell_type": "code",
      "metadata": {
        "id": "3wwx54HEcMkI",
        "colab_type": "code",
        "colab": {}
      },
      "source": [
        "### Q8   https://practice.geeksforgeeks.org/problems/good-or-bad-string/0"
      ],
      "execution_count": 0,
      "outputs": []
    },
    {
      "cell_type": "code",
      "metadata": {
        "id": "Jpvy3wZKfpI2",
        "colab_type": "code",
        "colab": {}
      },
      "source": [
        ""
      ],
      "execution_count": 0,
      "outputs": []
    },
    {
      "cell_type": "code",
      "metadata": {
        "id": "Owgr6w_QfpFc",
        "colab_type": "code",
        "colab": {}
      },
      "source": [
        ""
      ],
      "execution_count": 0,
      "outputs": []
    },
    {
      "cell_type": "code",
      "metadata": {
        "id": "JrtJFxcCcMoW",
        "colab_type": "code",
        "colab": {}
      },
      "source": [
        "#Qn 9 ##https://practice.geeksforgeeks.org/problems/urlify-a-given-string/0"
      ],
      "execution_count": 0,
      "outputs": []
    },
    {
      "cell_type": "code",
      "metadata": {
        "id": "ITsP2K0LfseI",
        "colab_type": "code",
        "colab": {}
      },
      "source": [
        "#code\n",
        "\n",
        "T = int(input())\n",
        "\n",
        "for i in range(T) :\n",
        "    string = input()\n",
        "    K = int(input())\n",
        "    string = string[:K]\n",
        "    \n",
        "    string = string.replace(\" \", \"%20\")\n",
        "    print(string)\n",
        "\n",
        "\n",
        "# Correct Answer.Correct Answer\n",
        "# Execution Time:0.02"
      ],
      "execution_count": 0,
      "outputs": []
    },
    {
      "cell_type": "code",
      "metadata": {
        "id": "qPWi3UFQfsiJ",
        "colab_type": "code",
        "colab": {}
      },
      "source": [
        ""
      ],
      "execution_count": 0,
      "outputs": []
    },
    {
      "cell_type": "code",
      "metadata": {
        "id": "Q_iY7GbucMh8",
        "colab_type": "code",
        "colab": {}
      },
      "source": [
        "###  Qn 10 https://practice.geeksforgeeks.org/problems/extract-maximum/0"
      ],
      "execution_count": 0,
      "outputs": []
    },
    {
      "cell_type": "code",
      "metadata": {
        "id": "A_81wG0aM7zQ",
        "colab_type": "code",
        "colab": {}
      },
      "source": [
        "#code\n",
        "T = int(input())\n",
        "\n",
        "for i in range(T) :\n",
        "    string = input()\n",
        "    temp = \"0\"\n",
        "    num_list = []\n",
        "    for charecter in string :\n",
        "        if charecter.isdigit() :\n",
        "            temp += charecter\n",
        "        else :\n",
        "            num_list.append(int(temp))\n",
        "            temp = \"0\"\n",
        "            \n",
        "        \n",
        "    num_list.append(int(temp))       \n",
        "    print(sorted(num_list)[-1])\n",
        "    num_list = []\n",
        "            \n",
        "\n",
        "# Correct Answer.Correct Answer\n",
        "# Execution Time:0.02"
      ],
      "execution_count": 0,
      "outputs": []
    },
    {
      "cell_type": "code",
      "metadata": {
        "id": "y9x2FAkNfrdk",
        "colab_type": "code",
        "colab": {}
      },
      "source": [
        ""
      ],
      "execution_count": 0,
      "outputs": []
    },
    {
      "cell_type": "code",
      "metadata": {
        "id": "Br1T60mcfrhK",
        "colab_type": "code",
        "colab": {}
      },
      "source": [
        ""
      ],
      "execution_count": 0,
      "outputs": []
    },
    {
      "cell_type": "code",
      "metadata": {
        "id": "UcQhScKecMfT",
        "colab_type": "code",
        "colab": {}
      },
      "source": [
        "# Qn 11 https://practice.geeksforgeeks.org/problems/reverse-words-in-a-given-string/0"
      ],
      "execution_count": 0,
      "outputs": []
    },
    {
      "cell_type": "code",
      "metadata": {
        "id": "TrMODcXWfuMo",
        "colab_type": "code",
        "colab": {}
      },
      "source": [
        "#code  \n",
        "\n",
        "T = int(input())\n",
        "\n",
        "for i in range(T) :\n",
        "    # string = input().split(\".\")\n",
        "    \n",
        "    # new_lst = string[::-1]\n",
        "    \n",
        "    # print(\".\".join(new_lst))\n",
        "    \n",
        "    print(\".\".join(input().split(\".\")[::-1]))\n",
        "\n",
        "\n",
        "# Correct Answer.Correct Answer\n",
        "# Execution Time:0.02\n",
        "    \n",
        "    \n",
        "    \n",
        "    "
      ],
      "execution_count": 0,
      "outputs": []
    },
    {
      "cell_type": "code",
      "metadata": {
        "id": "ODw1Bt56fuP2",
        "colab_type": "code",
        "colab": {}
      },
      "source": [
        "#code  further if want to reverse each element also \n",
        "# i.like.this.program.very.much\n",
        "\n",
        "T = int(input())\n",
        "\n",
        "for i in range(T) :\n",
        "    # input().split(\".\")     taking input & splitting on dot\n",
        "    # [::-1]                 reversing the list element \n",
        "    # i[::-1]                reversing each element in itself\n",
        "    # \".\".join (....list.....)    joing all element of list with dot \n",
        "\n",
        "    print(\".\".join([i[::-1]     for i in input().split(\".\")[::-1]]))\n",
        "    "
      ],
      "execution_count": 0,
      "outputs": []
    },
    {
      "cell_type": "code",
      "metadata": {
        "id": "QhH6ZgQZfuTV",
        "colab_type": "code",
        "colab": {}
      },
      "source": [
        ""
      ],
      "execution_count": 0,
      "outputs": []
    },
    {
      "cell_type": "code",
      "metadata": {
        "id": "Of4MYVOacMHx",
        "colab_type": "code",
        "colab": {}
      },
      "source": [
        "### Qn 12 https://practice.geeksforgeeks.org/problems/implement-strstr/1"
      ],
      "execution_count": 0,
      "outputs": []
    },
    {
      "cell_type": "code",
      "metadata": {
        "id": "trNLWIM1fu_U",
        "colab_type": "code",
        "colab": {}
      },
      "source": [
        "'''\n",
        "\tYour task is to return the index of the pattern\n",
        "\tpresent in the given string.\n",
        "\t\n",
        "\tFunction Arguments: s (given text), p(given pattern)\n",
        "\tReturn Type: Integer.\n",
        "\t\n",
        "'''\n",
        "def strstr(s,char):\n",
        "    #code here\n",
        "    index = 0\n",
        "    if char in s:\n",
        "        c = char[0]\n",
        "\n",
        "        for ch in s:\n",
        "            if ch == c:\n",
        "                if s[index:index+len(char)] == char:\n",
        "                    return index\n",
        "            \n",
        "            index += 1\n",
        "    \n",
        "    \n",
        "    return -1\n",
        "    \n",
        "\n",
        "\n",
        "#{ \n",
        "#  Driver Code Starts\n",
        "#Contributed by : Nagendra Jha\n",
        "\n",
        "import atexit\n",
        "import io\n",
        "import sys\n",
        "\n",
        "_INPUT_LINES = sys.stdin.read().splitlines()\n",
        "input = iter(_INPUT_LINES).__next__\n",
        "_OUTPUT_BUFFER = io.StringIO()\n",
        "sys.stdout = _OUTPUT_BUFFER\n",
        "\n",
        "@atexit.register\n",
        "\n",
        "\n",
        "def write():\n",
        "    sys.__stdout__.write(_OUTPUT_BUFFER.getvalue())\n",
        "\n",
        "if __name__ == '__main__':\n",
        "    t=int(input())\n",
        "    for cases in range(t):\n",
        "        s,p =input().strip().split()\n",
        "        print(strstr(s,p))\n",
        "\n",
        "\n",
        "# } Driver code ends \n",
        "\n"
      ],
      "execution_count": 0,
      "outputs": []
    },
    {
      "cell_type": "code",
      "metadata": {
        "id": "gW2k1ZFSfvFk",
        "colab_type": "code",
        "colab": {}
      },
      "source": [
        ""
      ],
      "execution_count": 0,
      "outputs": []
    },
    {
      "cell_type": "code",
      "metadata": {
        "id": "vB2MAR_mfvC1",
        "colab_type": "code",
        "colab": {}
      },
      "source": [
        ""
      ],
      "execution_count": 0,
      "outputs": []
    },
    {
      "cell_type": "code",
      "metadata": {
        "id": "H0H6oZFqcMBB",
        "colab_type": "code",
        "colab": {}
      },
      "source": [
        "### Qn 13  https://practice.geeksforgeeks.org/problems/check-for-subsequence/0"
      ],
      "execution_count": 0,
      "outputs": []
    },
    {
      "cell_type": "code",
      "metadata": {
        "id": "3GRAVHxucL-V",
        "colab_type": "code",
        "colab": {}
      },
      "source": [
        "#code\n",
        "\n",
        "\n",
        "def isSubSequence(str1,str2): \n",
        "    m = len(str1) \n",
        "    n = len(str2) \n",
        "      \n",
        "    j = 0    # Index of str1 \n",
        "    i = 0    # Index of str2 \n",
        "      \n",
        "    # Traverse both str1 and str2 \n",
        "    # Compare current character of str2 with  \n",
        "    # first unmatched character of str1 \n",
        "    # If matched, then move ahead in str1 \n",
        "      \n",
        "    while j<m and i<n: \n",
        "        if str1[j] == str2[i]:     \n",
        "            j = j+1    \n",
        "        i = i + 1\n",
        "          \n",
        "    # If all characters of str1 matched, then j is equal to m \n",
        "    return j==m  \n",
        "    \n",
        "    \n",
        "T = int(input())\n",
        "\n",
        "for i in range(T) :\n",
        "    A,B = map(str,input().split())\n",
        "    print (\"1\" if isSubSequence(A,B) else \"0\")\n",
        "    "
      ],
      "execution_count": 0,
      "outputs": []
    },
    {
      "cell_type": "code",
      "metadata": {
        "id": "aniABGIJcL7i",
        "colab_type": "code",
        "colab": {}
      },
      "source": [
        ""
      ],
      "execution_count": 0,
      "outputs": []
    },
    {
      "cell_type": "code",
      "metadata": {
        "id": "9jwe-nSWcL4V",
        "colab_type": "code",
        "colab": {}
      },
      "source": [
        "### Q14   https://practice.geeksforgeeks.org/problems/check-if-strings-are-rotations-of-each-other-or-not/0"
      ],
      "execution_count": 0,
      "outputs": []
    },
    {
      "cell_type": "code",
      "metadata": {
        "id": "JIr9Du3gcLxN",
        "colab_type": "code",
        "colab": {}
      },
      "source": [
        "#code\n",
        "T = int(input())\n",
        "\n",
        "for i in range(T) :\n",
        "    \n",
        "    s1 = input()\n",
        "    s2 = input()\n",
        "    \n",
        "    c = []\n",
        "    for i in range (len(s1)):\n",
        "        c.append(s[i:]+s[:i])\n",
        "    \n",
        "    if s2 in c :\n",
        "        print(\"1\")\n",
        "    else:\n",
        "        print(\"0\")\n",
        "    \n",
        "    \n",
        "# exec time more than 3.6 sec , which is not acceptable\n"
      ],
      "execution_count": 0,
      "outputs": []
    },
    {
      "cell_type": "code",
      "metadata": {
        "id": "35MSiajfSfiV",
        "colab_type": "code",
        "colab": {}
      },
      "source": [
        "\n",
        "t=int(input())\n",
        "for _ in range(t):\n",
        "    s1=input()\n",
        "    s2=input()\n",
        "    if(len(s1)!=len(s2)):\n",
        "        print(0)\n",
        "    else:\n",
        "        temp=\"\"\n",
        "        temp=s1+s1\n",
        "        if(s2 in temp):\n",
        "            print(1)\n",
        "        else:\n",
        "            print(0)\n",
        "            \n",
        "    \n",
        "# Correct Answer.Correct Answer\n",
        "# Execution Time:0.06\n",
        "    "
      ],
      "execution_count": 0,
      "outputs": []
    },
    {
      "cell_type": "code",
      "metadata": {
        "id": "DrioLNp3cLvQ",
        "colab_type": "code",
        "colab": {}
      },
      "source": [
        "### Q 15 https://practice.geeksforgeeks.org/problems/check-if-two-strings-are-k-anagrams-or-not/1"
      ],
      "execution_count": 0,
      "outputs": []
    },
    {
      "cell_type": "code",
      "metadata": {
        "id": "eYhrFHywcLs-",
        "colab_type": "code",
        "colab": {}
      },
      "source": [
        "# Your task is to complete this function\n",
        "# Function should return 1/0 or True/False\n",
        "# Function to check that is  \n",
        "# k-anagram or not  \n",
        "MAX_CHAR = 26\n",
        "def areKAnagrams (str1, str2, k) : \n",
        "  \n",
        "    # If both strings are not of equal  \n",
        "    # length then return false  \n",
        "    n = len(str1) \n",
        "    if (len(str2)!= n) : \n",
        "        return False\n",
        "  \n",
        "    count1 = [0] * MAX_CHAR  \n",
        "    count2 = [0] * MAX_CHAR \n",
        "  \n",
        "    # Store the occurrence of all  \n",
        "    # characters in a hash_array  \n",
        "    for i in range(n):  \n",
        "        count1[ord(str1[i]) - \n",
        "               ord('a')] += 1\n",
        "    for i in range(n):  \n",
        "        count2[ord(str2[i]) - \n",
        "               ord('a')] += 1\n",
        "          \n",
        "    count = 0\n",
        "  \n",
        "    # Count number of characters that \n",
        "    # are different in both strings  \n",
        "    for i in range(MAX_CHAR): \n",
        "        if (count1[i] > count2[i]) : \n",
        "            count = count + abs(count1[i] - \n",
        "                                count2[i])  \n",
        "  \n",
        "    # Return true if count is less \n",
        "    # than or equal to k  \n",
        "    return (count <= k)  \n",
        "  \n",
        "\n",
        "\n",
        "\n",
        "#{ \n",
        "#  Driver Code Starts\n",
        "if __name__=='__main__':\n",
        "    t = int(input())\n",
        "    for i in range(t):\n",
        "        arr = input().strip().split()\n",
        "        k = int(input())\n",
        "        if areKAnagrams(arr[0], arr[1], k):\n",
        "            print(1)\n",
        "        else:\n",
        "            print(0)\n",
        "\n",
        "# } Driver Code Ends"
      ],
      "execution_count": 0,
      "outputs": []
    },
    {
      "cell_type": "code",
      "metadata": {
        "id": "oPY8ozagcLlV",
        "colab_type": "code",
        "colab": {}
      },
      "source": [
        "#Qn 16 ##https://practice.geeksforgeeks.org/problems/uncommon-characters/0"
      ],
      "execution_count": 0,
      "outputs": []
    },
    {
      "cell_type": "code",
      "metadata": {
        "id": "n5xy9peqcLjk",
        "colab_type": "code",
        "colab": {
          "base_uri": "https://localhost:8080/",
          "height": 68
        },
        "outputId": "e1ac4df2-0815-4e6c-828f-08522e21b249"
      },
      "source": [
        "# Concatination of two uncommon strings \n",
        "def uncommonstring(s1, s2):\n",
        "# convert both strings into set\n",
        "   st1 = set(s1)\n",
        "   st2 = set(s2)\n",
        "   # take intersection of two sets to get list of common characters \n",
        "   lst = list(st1 & st2)\n",
        "   finallist = [i for i in s1 if i not in lst] +  [i for i in s2 if i not in lst]\n",
        "   print(\"CONCATENATED STRING IS :::\", ''.join(finallist))\n",
        "# Driver program\n",
        "if __name__ == \"__main__\":\n",
        "   s1 =input(\"Enter the String ::\")\n",
        "   s2=input(\"Enter the String ::\")\n",
        "   uncommonstring(s1,s2)"
      ],
      "execution_count": 3,
      "outputs": [
        {
          "output_type": "stream",
          "text": [
            "Enter the String ::manish\n",
            "Enter the String ::monu\n",
            "CONCATENATED STRING IS ::: aishou\n"
          ],
          "name": "stdout"
        }
      ]
    },
    {
      "cell_type": "code",
      "metadata": {
        "id": "xdkt_IfOl6oS",
        "colab_type": "code",
        "colab": {}
      },
      "source": [
        ""
      ],
      "execution_count": 0,
      "outputs": []
    },
    {
      "cell_type": "code",
      "metadata": {
        "id": "rUrT62M9l6sp",
        "colab_type": "code",
        "colab": {}
      },
      "source": [
        ""
      ],
      "execution_count": 0,
      "outputs": []
    },
    {
      "cell_type": "code",
      "metadata": {
        "id": "kVrcgKC_l6k5",
        "colab_type": "code",
        "colab": {}
      },
      "source": [
        ""
      ],
      "execution_count": 0,
      "outputs": []
    },
    {
      "cell_type": "code",
      "metadata": {
        "id": "027ewNwUcLca",
        "colab_type": "code",
        "colab": {}
      },
      "source": [
        "#Qn 17 ###https://practice.geeksforgeeks.org/problems/anagram-of-string/1"
      ],
      "execution_count": 0,
      "outputs": []
    },
    {
      "cell_type": "code",
      "metadata": {
        "id": "L1MGLysJcLZq",
        "colab_type": "code",
        "colab": {}
      },
      "source": [
        "# function to calculate minimum numbers of characters\n",
        "# to be removed to make two strings anagram\n",
        "def remAnagram(str1,str2):\n",
        "    \n",
        "    #add code here\n",
        "    a = list(str1)\n",
        "    b = list(str2)\n",
        "    \n",
        "    count = 0\n",
        "    \n",
        "    for i in range(len(a)) :\n",
        "        for j in range(len(b)) :\n",
        "            if a[i] == b[j] :\n",
        "                count += 1\n",
        "                b[j] = \"*\"\n",
        "                break;\n",
        "    return len(a) + len(b)  - (2 * count)\n",
        "    \n",
        "    "
      ],
      "execution_count": 0,
      "outputs": []
    },
    {
      "cell_type": "code",
      "metadata": {
        "id": "RBpTaV3cx22P",
        "colab_type": "code",
        "colab": {
          "base_uri": "https://localhost:8080/",
          "height": 85
        },
        "outputId": "4fcaed9e-79a5-4499-d56c-62e169f8c078"
      },
      "source": [
        "#{ \n",
        "#  Driver Code Starts\n",
        "if __name__=='__main__':\n",
        "    t=int(input())\n",
        "    for i in range(t):\n",
        "        str1=input()\n",
        "        str2=input()\n",
        "        print(remAnagram(str1,str2))\n",
        "# } Driver Code Ends"
      ],
      "execution_count": 6,
      "outputs": [
        {
          "output_type": "stream",
          "text": [
            "1\n",
            "bcadeh\n",
            "hea\n",
            "3\n"
          ],
          "name": "stdout"
        }
      ]
    },
    {
      "cell_type": "code",
      "metadata": {
        "id": "vWJTrcLUx256",
        "colab_type": "code",
        "colab": {}
      },
      "source": [
        ""
      ],
      "execution_count": 0,
      "outputs": []
    },
    {
      "cell_type": "code",
      "metadata": {
        "id": "NO0HLm-6x2zs",
        "colab_type": "code",
        "colab": {}
      },
      "source": [
        ""
      ],
      "execution_count": 0,
      "outputs": []
    },
    {
      "cell_type": "code",
      "metadata": {
        "id": "6hag5R1IcLW0",
        "colab_type": "code",
        "colab": {}
      },
      "source": [
        "# Qn 18 ##https://practice.geeksforgeeks.org/problems/find-first-repeated-character/0"
      ],
      "execution_count": 0,
      "outputs": []
    },
    {
      "cell_type": "code",
      "metadata": {
        "id": "yiCDWMJGcLUv",
        "colab_type": "code",
        "colab": {}
      },
      "source": [
        "#code\n",
        "\n",
        "# Python program to find the first \n",
        "# repeated character in a string \n",
        "def firstRepeatedChar(str): \n",
        "\n",
        "\th = {} # Create empty hash \n",
        "\n",
        "\t# Traverse each characters in string \n",
        "\t# in lower case order \n",
        "\tfor ch in str: \n",
        "\n",
        "\t\t# If character is already present \n",
        "\t\t# in hash, return char \n",
        "\t\tif ch in h: \n",
        "\t\t\treturn ch; \n",
        "\n",
        "\t\t# Add ch to hash \n",
        "\t\telse: \n",
        "\t\t\th[ch] = 0\n",
        "\n",
        "\treturn '-1'\n",
        "\n",
        "\n",
        "# Driver code \n",
        "T = int(input())\n",
        "for i in range(T) :\n",
        "    string = input()\n",
        "    print(firstRepeatedChar(string))\n",
        "\n",
        "\n",
        "\n",
        "\n"
      ],
      "execution_count": 0,
      "outputs": []
    },
    {
      "cell_type": "code",
      "metadata": {
        "id": "hL5Ra5JU0eU2",
        "colab_type": "code",
        "colab": {}
      },
      "source": [
        ""
      ],
      "execution_count": 0,
      "outputs": []
    },
    {
      "cell_type": "code",
      "metadata": {
        "id": "QMP2Os1g0efN",
        "colab_type": "code",
        "colab": {}
      },
      "source": [
        ""
      ],
      "execution_count": 0,
      "outputs": []
    },
    {
      "cell_type": "code",
      "metadata": {
        "id": "2i6SzsSxcLNg",
        "colab_type": "code",
        "colab": {}
      },
      "source": [
        "#Qn 19 #https://practice.geeksforgeeks.org/problems/non-repeating-character/0"
      ],
      "execution_count": 0,
      "outputs": []
    },
    {
      "cell_type": "code",
      "metadata": {
        "id": "NsOnceyr5LTe",
        "colab_type": "code",
        "colab": {}
      },
      "source": [
        "\n",
        "# Python program to find the first non repeated character in a string \n",
        "def firstNonRepeatedChar(str): \n",
        "    \n",
        "    for i in str :\n",
        "        if str.count(i) == 1 :\n",
        "            return i\n",
        "            \n",
        "    return \"-1\"\n",
        "        \n",
        "\n",
        "\n",
        "# Driver code \n",
        "T = int(input())\n",
        "for i in range(T) :\n",
        "    length = int(input())\n",
        "    string = input()\n",
        "    print(firstNonRepeatedChar(string))\n",
        "\n",
        "# Program run well & give correct o/p but take time\n",
        "# which is more than limited time in geeksforgeeks platform \n",
        "# so please try some optimized code "
      ],
      "execution_count": 0,
      "outputs": []
    },
    {
      "cell_type": "code",
      "metadata": {
        "id": "_ZbK7FMe5LYd",
        "colab_type": "code",
        "colab": {}
      },
      "source": [
        ""
      ],
      "execution_count": 0,
      "outputs": []
    },
    {
      "cell_type": "code",
      "metadata": {
        "id": "4wOWfyTgcLJz",
        "colab_type": "code",
        "colab": {}
      },
      "source": [
        "#Qn 20  #https://practice.geeksforgeeks.org/problems/longest-distinct-characters-in-string/0  \n",
        "\n",
        "               # try this link too   https://www.tutorialspoint.com/longest-substring-without-repeating-characters-in-python"
      ],
      "execution_count": 0,
      "outputs": []
    },
    {
      "cell_type": "code",
      "metadata": {
        "id": "FFht-Pz_dSNT",
        "colab_type": "code",
        "colab": {}
      },
      "source": [
        "# Python program to find the length of the longest substring \n",
        "# without repeating characters \n",
        "NO_OF_CHARS = 256\n",
        "\n",
        "def longestUniqueSubsttr(string): \n",
        "\n",
        "\t# Initialize the last index array as -1, -1 is used to store \n",
        "\t# last index of every character \n",
        "\tlastIndex = [-1] * NO_OF_CHARS \n",
        "\n",
        "\tn = len(string) \n",
        "\tres = 0 # Result \n",
        "\ti = 0\n",
        "\n",
        "\tfor j in range(0, n): \n",
        "\t\t# Find the last index of str[j] \n",
        "\t\t# Update i (starting index of current window) \n",
        "\t\t# as maximum of current value of i and last \n",
        "\t\t# index plus 1 \n",
        "\t\ti = max(i, lastIndex[ord(string[j])] + 1); \n",
        "\n",
        "\t\t# Update result if we get a larger window \n",
        "\t\tres = max(res, j - i + 1) \n",
        "\n",
        "\t\t# Update last index of j. \n",
        "\t\tlastIndex[ord(string[j])] = j; \n",
        "\n",
        "\treturn res \n",
        "\n",
        "T = int(input()) \n",
        "for i in range(T) :\n",
        "    string = input()\n",
        "    length = longestUniqueSubsttr(string) \n",
        "    print(length)\n",
        "\n",
        "### if you want tp print substring(longest)"
      ],
      "execution_count": 0,
      "outputs": []
    },
    {
      "cell_type": "code",
      "metadata": {
        "id": "kvIzS91CkhFD",
        "colab_type": "code",
        "colab": {
          "base_uri": "https://localhost:8080/",
          "height": 34
        },
        "outputId": "55e5560d-167d-40af-b49c-656aa7f6671b"
      },
      "source": [
        "# Python3 program to find and print longest \n",
        "# substring without repeating characters. \n",
        "\n",
        "# Function to find and print longest \n",
        "# substring without repeating characters. \n",
        "def findLongestSubstring(string): \n",
        "\n",
        "\tn = len(string) \n",
        "\n",
        "\t# starting point of current substring. \n",
        "\tst = 0\n",
        "\n",
        "\t# maximum length substring without \n",
        "\t# repeating characters. \n",
        "\tmaxlen = 0\n",
        "\n",
        "\t# starting index of maximum \n",
        "\t# length substring. \n",
        "\tstart = 0\n",
        "\n",
        "\t# Hash Map to store last occurrence \n",
        "\t# of each already visited character. \n",
        "\tpos = {} \n",
        "\n",
        "\t# Last occurrence of first \n",
        "\t# character is index 0 \n",
        "\tpos[string[0]] = 0\n",
        "\n",
        "\tfor i in range(1, n): \n",
        "\n",
        "\t\t# If this character is not present in hash, \n",
        "\t\t# then this is first occurrence of this \n",
        "\t\t# character, store this in hash. \n",
        "\t\tif string[i] not in pos: \n",
        "\t\t\tpos[string[i]] = i \n",
        "\n",
        "\t\telse: \n",
        "\t\t\t# If this character is present in hash then \n",
        "\t\t\t# this character has previous occurrence, \n",
        "\t\t\t# check if that occurrence is before or after \n",
        "\t\t\t# starting point of current substring. \n",
        "\t\t\tif pos[string[i]] >= st: \n",
        "\n",
        "\t\t\t\t# find length of current substring and \n",
        "\t\t\t\t# update maxlen and start accordingly. \n",
        "\t\t\t\tcurrlen = i - st \n",
        "\t\t\t\tif maxlen < currlen: \n",
        "\t\t\t\t\tmaxlen = currlen \n",
        "\t\t\t\t\tstart = st \n",
        "\n",
        "\t\t\t\t# Next substring will start after the last \n",
        "\t\t\t\t# occurrence of current character to avoid \n",
        "\t\t\t\t# its repetition. \n",
        "\t\t\t\tst = pos[string[i]] + 1\n",
        "\t\t\t\n",
        "\t\t\t# Update last occurrence of \n",
        "\t\t\t# current character. \n",
        "\t\t\tpos[string[i]] = i \n",
        "\t\t\n",
        "\t# Compare length of last substring with maxlen \n",
        "\t# and update maxlen and start accordingly. \n",
        "\tif maxlen < i - st: \n",
        "\t\tmaxlen = i - st \n",
        "\t\tstart = st \n",
        "\t\n",
        "\t# The required longest substring without \n",
        "\t# repeating characters is from string[start] \n",
        "\t# to string[start+maxlen-1]. \n",
        "\treturn string[start : start + maxlen] \n",
        "\n",
        "# Driver Code \n",
        "if __name__ == \"__main__\": \n",
        "\n",
        "\tstring = \"Manish kumar Singh\"\n",
        "\tprint(findLongestSubstring(string)) \n",
        "\n",
        "\n"
      ],
      "execution_count": 1,
      "outputs": [
        {
          "output_type": "stream",
          "text": [
            "Manish kum\n"
          ],
          "name": "stdout"
        }
      ]
    },
    {
      "cell_type": "code",
      "metadata": {
        "id": "U1wmdNNlkhK6",
        "colab_type": "code",
        "colab": {}
      },
      "source": [
        ""
      ],
      "execution_count": 0,
      "outputs": []
    },
    {
      "cell_type": "code",
      "metadata": {
        "id": "UrmDSzJKdSYi",
        "colab_type": "code",
        "colab": {}
      },
      "source": [
        "#Qn 21 ##ps://practice.geeksforgeeks.org/problems/longest-palindromic-substring-in-linear-time/1"
      ],
      "execution_count": 0,
      "outputs": []
    },
    {
      "cell_type": "code",
      "metadata": {
        "id": "afRBv7u3dSp7",
        "colab_type": "code",
        "colab": {}
      },
      "source": [
        "def LongestPalindromeSubString(text):\n",
        "    s = text\n",
        "    if len(s) <=1: return s\n",
        "    dp = [[False for _ in range (len(s))] for _ in range(len(s))]\n",
        "    start, maxlen = -1, 0\n",
        "    for j in range(len(s)):\n",
        "        for i in range(0,j+1):\n",
        "            if i == j:\n",
        "                dp[i][j] = True\n",
        "            elif j - i == 1:\n",
        "                    dp[i][j] = s[i]==s[j]\n",
        "            elif j - i > 1:\n",
        "                if dp[i+1][j-1] and s[i]==s[j]:\n",
        "                        dp[i][j] = True\n",
        "            if dp[i][j]:\n",
        "                if j - i + 1 > maxlen:\n",
        "                    start = i\n",
        "                    maxlen = j-i+1\n",
        "    return s[start:start+maxlen]"
      ],
      "execution_count": 0,
      "outputs": []
    },
    {
      "cell_type": "code",
      "metadata": {
        "id": "56liuFKp_DdE",
        "colab_type": "code",
        "colab": {}
      },
      "source": [
        "#{ \n",
        "#  Driver Code Starts\n",
        "#Initial Template for Python 3\n",
        "\n",
        "if __name__ == '__main__':\n",
        "    t=int(input())\n",
        "    for _ in range(t):\n",
        "        text=input().strip()\n",
        "        print(LongestPalindromeSubString(text))\n",
        "\n",
        "# } Driver Code Ends"
      ],
      "execution_count": 0,
      "outputs": []
    },
    {
      "cell_type": "code",
      "metadata": {
        "id": "N1BgLgCc_Dn-",
        "colab_type": "code",
        "colab": {}
      },
      "source": [
        ""
      ],
      "execution_count": 0,
      "outputs": []
    },
    {
      "cell_type": "code",
      "metadata": {
        "id": "fhG3OrBu_Di7",
        "colab_type": "code",
        "colab": {}
      },
      "source": [
        ""
      ],
      "execution_count": 0,
      "outputs": []
    },
    {
      "cell_type": "code",
      "metadata": {
        "id": "PnaalKLZdSyG",
        "colab_type": "code",
        "colab": {}
      },
      "source": [
        "#Qn 22##https://practice.geeksforgeeks.org/problems/find-k-th-character-in-string/0"
      ],
      "execution_count": 0,
      "outputs": []
    },
    {
      "cell_type": "code",
      "metadata": {
        "id": "no89aN6kdS7S",
        "colab_type": "code",
        "colab": {}
      },
      "source": [
        "#\n",
        "\n",
        "\n",
        "# Python3 program to find \n",
        "# i’th Index character in \n",
        "# a binary string obtained \n",
        "# after n iterations \n",
        "\n",
        "# Function to find \n",
        "# the i-th character \n",
        "def KthCharacter(m, n, k): \n",
        "\n",
        "\t# distance between two \n",
        "\t# consecutive elements \n",
        "\t# after N iterations \n",
        "\tdistance = pow(2, n) \n",
        "\tBlock_number = int(k / distance) \n",
        "\tremaining = k % distance \n",
        "\n",
        "\ts = [0] * 32\n",
        "\tx = 0\n",
        "\n",
        "\t# binary representation of M \n",
        "\twhile(m > 0) : \n",
        "\t\ts[x] = m % 2\n",
        "\t\tm = int(m / 2) \n",
        "\t\tx += 1\n",
        "\t\t\n",
        "\t# kth digit will be derived \n",
        "\t# from root for sure \n",
        "\troot = s[x - 1 - Block_number] \n",
        "\t\n",
        "\tif (remaining == 0): \n",
        "\t\tprint(root) \n",
        "\t\treturn\n",
        "\t\n",
        "\t# Check whether there \n",
        "\t# is need to flip root \n",
        "\t# or not \n",
        "\tflip = True\n",
        "\twhile (remaining > 1): \n",
        "\t\tif (remaining & 1): \n",
        "\t\t\tflip = not(flip) \n",
        "\t\t\n",
        "\t\tremaining = remaining >> 1\n",
        "\t\n",
        "\tif (flip) : \n",
        "\t\tprint(int(not(root)) )\n",
        "\t\n",
        "\telse : \n",
        "\t\tprint(root) \n",
        "\t\n",
        "T = int(input())\n",
        "for i in range(T) :\n",
        "    m,k,n = map(int, input().split())\n",
        "    KthCharacter(m, n, k) \n",
        "\n",
        "\n",
        "\n",
        "# Correct Answer.Correct Answer\n",
        "# Execution Time:0.03"
      ],
      "execution_count": 0,
      "outputs": []
    },
    {
      "cell_type": "code",
      "metadata": {
        "id": "aktYt4CsdTHR",
        "colab_type": "code",
        "colab": {}
      },
      "source": [
        "## Qn 23 ###https://practice.geeksforgeeks.org/problems/smallest-window-in-a-string-containing-all-the-characters-of-another-string/0"
      ],
      "execution_count": 0,
      "outputs": []
    },
    {
      "cell_type": "code",
      "metadata": {
        "id": "LKRVcszodTOm",
        "colab_type": "code",
        "colab": {}
      },
      "source": [
        "# Python3 program to find the smallest window \n",
        "# containing all characters of a pattern. \n",
        "no_of_chars = 256\n",
        "\n",
        "# Function to find smallest window \n",
        "# containing all characters of 'pat' \n",
        "def findSubString(string, pat): \n",
        "\n",
        "\tlen1 = len(string) \n",
        "\tlen2 = len(pat) \n",
        "\n",
        "\t# check if string's length is less than pattern's \n",
        "\t# length. If yes then no such window can exist \n",
        "\tif len1 < len2: \n",
        "\t\treturn \"-1\" \n",
        "\n",
        "\thash_pat = [0] * no_of_chars \n",
        "\thash_str = [0] * no_of_chars \n",
        "\n",
        "\t# store occurrence ofs characters of pattern \n",
        "\tfor i in range(0, len2): \n",
        "\t\thash_pat[ord(pat[i])] += 1\n",
        "\n",
        "\tstart, start_index, min_len = 0, -1, float('inf') \n",
        "\n",
        "\t# start traversing the string \n",
        "\tcount = 0 # count of characters \n",
        "\tfor j in range(0, len1): \n",
        "\t\n",
        "\t\t# count occurrence of characters of string \n",
        "\t\thash_str[ord(string[j])] += 1\n",
        "\n",
        "\t\t# If string's char matches with \n",
        "\t\t# pattern's char then increment count \n",
        "\t\tif (hash_pat[ord(string[j])] != 0 and\n",
        "\t\t\thash_str[ord(string[j])] <=\n",
        "\t\t\thash_pat[ord(string[j])]): \n",
        "\t\t\tcount += 1\n",
        "\n",
        "\t\t# if all the characters are matched \n",
        "\t\tif count == len2: \n",
        "\t\t\n",
        "\t\t\t# Try to minimize the window i.e., check if \n",
        "\t\t\t# any character is occurring more no. of times \n",
        "\t\t\t# than its occurrence in pattern, if yes \n",
        "\t\t\t# then remove it from starting and also remove \n",
        "\t\t\t# the useless characters. \n",
        "\t\t\twhile (hash_str[ord(string[start])] > \n",
        "\t\t\t\thash_pat[ord(string[start])] or\n",
        "\t\t\t\thash_pat[ord(string[start])] == 0): \n",
        "\t\t\t\n",
        "\t\t\t\tif (hash_str[ord(string[start])] > \n",
        "\t\t\t\t\thash_pat[ord(string[start])]): \n",
        "\t\t\t\t\thash_str[ord(string[start])] -= 1\n",
        "\t\t\t\tstart += 1\n",
        "\t\t\t\n",
        "\t\t\t# update window size \n",
        "\t\t\tlen_window = j - start + 1\n",
        "\t\t\tif min_len > len_window: \n",
        "\t\t\t\n",
        "\t\t\t\tmin_len = len_window \n",
        "\t\t\t\tstart_index = start \n",
        "\n",
        "\t# If no window found \n",
        "\tif start_index == -1: \n",
        "\t\treturn \"-1\" \n",
        "\t\n",
        "\t# Return substring starting from \n",
        "\t# start_index and length min_len \n",
        "\treturn string[start_index : start_index + min_len] \n",
        "\n",
        "# Driver code \n",
        "if __name__ == \"__main__\": \n",
        "    T = int(input())\n",
        "    for i in range(T):\n",
        "        string = input()\n",
        "        pat = input()\n",
        "        print(findSubString(string, pat))\n",
        "\n",
        "\n",
        "# Correct Answer.Correct Answer\n",
        "# Execution Time:0.11"
      ],
      "execution_count": 0,
      "outputs": []
    },
    {
      "cell_type": "code",
      "metadata": {
        "id": "qmuL4Cs0f9KH",
        "colab_type": "code",
        "colab": {}
      },
      "source": [
        ""
      ],
      "execution_count": 0,
      "outputs": []
    },
    {
      "cell_type": "code",
      "metadata": {
        "id": "v6SKm2pHSd0I",
        "colab_type": "code",
        "colab": {}
      },
      "source": [
        "#qn 24 ### https://practice.geeksforgeeks.org/problems/add-binary-strings/0"
      ],
      "execution_count": 0,
      "outputs": []
    },
    {
      "cell_type": "code",
      "metadata": {
        "id": "RfG9RwLmKcU1",
        "colab_type": "code",
        "colab": {}
      },
      "source": [
        "#code\n",
        "\n",
        "\n",
        "\n",
        "cases = int(input())\n",
        "\n",
        "for _ in range(cases):\n",
        "    x,y = map(str, input().split())\n",
        "\n",
        "    carry = 0\n",
        "    i=len(x)-1\n",
        "    j=len(y)-1\n",
        "    res = \"\"\n",
        "    while(i>-1 or j>-1):\n",
        "        if(i==-1):\n",
        "            tempy = int(y[j])\n",
        "            res+= str((tempy+carry)%2)\n",
        "            carry = (tempy+carry)//2\n",
        "            j-=1\n",
        "        elif(j==-1):\n",
        "            tempx = int(x[i])\n",
        "            res+=str((tempx+carry)%2)\n",
        "            carry =(tempx+carry)//2\n",
        "            i-=1\n",
        "       \n",
        "        else :\n",
        "            tempx = int(x[i])\n",
        "            tempy = int(y[j])\n",
        "\n",
        "        res+=str((tempx+tempy+carry)%2)\n",
        "        carry = (tempx+tempy+carry)//2\n",
        "        i-=1\n",
        "        j-=1\n",
        "        if(carry == 1):\n",
        "            res+=\"1\"\n",
        "        print(res[::-1])"
      ],
      "execution_count": 0,
      "outputs": []
    },
    {
      "cell_type": "code",
      "metadata": {
        "id": "Fh4Y-f6RKcYv",
        "colab_type": "code",
        "colab": {}
      },
      "source": [
        ""
      ],
      "execution_count": 0,
      "outputs": []
    },
    {
      "cell_type": "code",
      "metadata": {
        "id": "EHvoc1PAig-l",
        "colab_type": "code",
        "colab": {}
      },
      "source": [
        ""
      ],
      "execution_count": 0,
      "outputs": []
    },
    {
      "cell_type": "code",
      "metadata": {
        "id": "2SBj_zjsihCT",
        "colab_type": "code",
        "colab": {}
      },
      "source": [
        "## Qn25  https://practice.geeksforgeeks.org/problems/multiply-two-strings/1"
      ],
      "execution_count": 0,
      "outputs": []
    },
    {
      "cell_type": "code",
      "metadata": {
        "id": "vaI3SepsfWmh",
        "colab_type": "code",
        "colab": {}
      },
      "source": [
        "\n",
        "def multiply(a,b):\n",
        "    a = int(a)\n",
        "    b = int(b)\n",
        "    print(a*b)\n",
        "    #add code here\n",
        "\n",
        "\n",
        "\n",
        "#{ \n",
        "#  Driver Code Starts\n",
        "#Initial Template for Python 3\n",
        "\n",
        "if __name__ == \"__main__\":\n",
        "    t=int(input())\n",
        "    for i in range(t):\n",
        "        a,b=input().split()\n",
        "        multiply(a,b)\n",
        "# } Driver Code Ends"
      ],
      "execution_count": 0,
      "outputs": []
    },
    {
      "cell_type": "code",
      "metadata": {
        "id": "cn5UO9M4fWqH",
        "colab_type": "code",
        "colab": {}
      },
      "source": [
        ""
      ],
      "execution_count": 0,
      "outputs": []
    },
    {
      "cell_type": "code",
      "metadata": {
        "id": "QNri0Bpjdt7I",
        "colab_type": "code",
        "colab": {}
      },
      "source": [
        "#Qn 26 ## https://practice.geeksforgeeks.org/problems/nearest-multiple-of-10/0 \n"
      ],
      "execution_count": 0,
      "outputs": []
    },
    {
      "cell_type": "code",
      "metadata": {
        "id": "GA_P1QB9dvgt",
        "colab_type": "code",
        "colab": {}
      },
      "source": [
        "import math\n",
        "\n",
        "def roundup(x):\n",
        "    # return int(math.ceil(x / 10)) * 10\n",
        "    # this work for some test case but not for all eg fail for 1223\n",
        "    # it gives 1230 where as right ans is 1220\n",
        "    \n",
        "    #so other approach\n",
        "    \n",
        "    if(x%10<=5):\n",
        "        x=x-(x%10)\n",
        "    else:\n",
        "       x=x+(10-x%10)\n",
        "       \n",
        "    return x\n",
        "\n",
        "\n",
        "n = int(input())\n",
        "for i in range(n) :\n",
        "  print(roundup(int(input())))"
      ],
      "execution_count": 0,
      "outputs": []
    },
    {
      "cell_type": "code",
      "metadata": {
        "id": "E4qPdokAdvj4",
        "colab_type": "code",
        "colab": {}
      },
      "source": [
        ""
      ],
      "execution_count": 0,
      "outputs": []
    },
    {
      "cell_type": "code",
      "metadata": {
        "id": "XgTH0mNudvtP",
        "colab_type": "code",
        "colab": {}
      },
      "source": [
        "# nearest multiple of 10    Qn 26\n",
        "# this is giving perfect answer 1223 -->  1220 \n",
        "t=int(input())\n",
        "while(t>0):\n",
        "    n=int(input())\n",
        "    if(n%10<=5):\n",
        "        n=n-(n%10)\n",
        "    else:\n",
        "        n=n+(10-n%10)\n",
        "    print(n)\n",
        "    t-=1"
      ],
      "execution_count": 0,
      "outputs": []
    },
    {
      "cell_type": "code",
      "metadata": {
        "id": "63V1VLApdvoM",
        "colab_type": "code",
        "colab": {}
      },
      "source": [
        ""
      ],
      "execution_count": 0,
      "outputs": []
    }
  ]
}